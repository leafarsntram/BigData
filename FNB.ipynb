{
 "cells": [
  {
   "cell_type": "code",
   "execution_count": 1,
   "metadata": {},
   "outputs": [
    {
     "name": "stderr",
     "output_type": "stream",
     "text": [
      "C:\\Users\\Sophia\\anaconda3\\lib\\site-packages\\pandas_datareader\\compat\\__init__.py:7: FutureWarning: pandas.util.testing is deprecated. Use the functions in the public API at pandas.testing instead.\n",
      "  from pandas.util.testing import assert_frame_equal\n"
     ]
    }
   ],
   "source": [
    "import pandas as pd # org orra t\n",
    "import numpy as np\n",
    "import requests as rq\n",
    "from bs4 import BeautifulSoup as bs\n",
    "import pandas_datareader as pdr \n",
    "import datetime \n",
    "import pymongo as md\n",
    "from pymongo import MongoClient\n",
    "import pprint\n",
    "from bson.objectid import ObjectId\n",
    "import plotly.graph_objects as go \n",
    "import plotly.express as px\n",
    "from scipy.stats import norm\n",
    "from matplotlib import pyplot as plt"
   ]
  },
  {
   "cell_type": "code",
   "execution_count": 2,
   "metadata": {},
   "outputs": [],
   "source": [
    "#busca ativos do Índice Ibovespa\n",
    "c = 0\n",
    "p = 18\n",
    "acoesb3 = pd.DataFrame(columns=[\"empresa\",\"ticker\",\"indice\"])\n",
    "while c<p:\n",
    "    page = rq.get('http://bvmf.bmfbovespa.com.br/indices/AcoesIndice.aspx?idioma=pt-BR&pg='+str(c))# somente as do indice\n",
    "    soup = bs(page.content, 'html.parser')\n",
    "    table = soup.find('div', class_='large-12 columns')\n",
    "    lista = table.find_all('td')\n",
    "    i = 0\n",
    "    while i < len(lista)-3:\n",
    "        acoesb3 = acoesb3.append({\"empresa\": ' '.join((lista[i].text.split())),\n",
    "                                  \"ticker\": ''.join(lista[i+1].text.split()),\n",
    "                                  \"indice\": ' '.join(lista[i+2].text.split())}, ignore_index=True)\n",
    "        i+=3\n",
    "    c+=1\n",
    " #retirando fundos de investimento   \n",
    "acoes = acoesb3.query(\"indice != 'IFIX'\")#retirando fundos de investimentos\n",
    "acoes1 = acoes.drop_duplicates()\n",
    "#incluindo índice Ibovespa\n",
    "acoes1 = acoes1.append({\"empresa\":'IBOVESPA',\n",
    "                       \"ticker\":'^BVSP',\n",
    "                       \"indice\":'IBOV'}, ignore_index=True)"
   ]
  },
  {
   "cell_type": "code",
   "execution_count": 103,
   "metadata": {},
   "outputs": [],
   "source": [
    "#conectando ao mongo\n",
    "con = MongoClient()\n",
    "db = con.price\n",
    "#obs:No MongoDB, a base só é criada se receber conteúdo "
   ]
  },
  {
   "cell_type": "code",
   "execution_count": null,
   "metadata": {},
   "outputs": [],
   "source": [
    "#consultando precos histórico\n",
    "for i in acoes1['ticker']:\n",
    "    if i == 'KEPL3' or i =='KMPR34' or i == 'JSLG3' or i== 'JPMC34' or i =='LINX3' or i =='K1EY34': #ações com falta de preços\n",
    "        continue\n",
    "    if i in db.list_collection_names():\n",
    "        continue\n",
    "    else:\n",
    "        coll = db[i]\n",
    "        if i =='^BVSP':\n",
    "            price = pdr.DataReader(str(i), 'yahoo',start=datetime.datetime(2010, 1, 4), end=datetime.datetime(2020, 5, 29)) \n",
    "        else:\n",
    "            price = pdr.DataReader(str(i+'.SA'), 'yahoo',start=datetime.datetime(2010, 1, 4), end=datetime.datetime(2020, 5, 29))\n",
    "        price = price.reset_index()\n",
    "        data_dict = price.to_dict(\"records\")\n",
    "        #coll.insert_one({\"index\":i,\"data\":data_dict})\n",
    "        coll.insert_many(data_dict)\n",
    "        n = coll.count()\n",
    "    print(i, n)  "
   ]
  },
  {
   "cell_type": "code",
   "execution_count": 154,
   "metadata": {},
   "outputs": [],
   "source": [
    "#consulta lista de collections\n",
    "for i in acoes1.ticker:\n",
    "    docs = db.i.find({},{\"_id\": 0, \"Low\":0, \"High\":0, \"Open\":0, \"Volume\":0, \"Adj Close\":0})\n",
    "    d = get_collection(i)\n",
    "        len(lc)"
   ]
  },
  {
   "cell_type": "code",
   "execution_count": 148,
   "metadata": {},
   "outputs": [],
   "source": [
    "cursor = db.list_collection_names()\n",
    "for c in cursor:\n",
    "    #print(list(cursor))\n",
    "    docs = db.c.find({},{\"_id\": 0, \"Low\":0, \"High\":0, \"Open\":0, \"Volume\":0, \"Adj Close\":0})\n",
    "    for dc in docs:\n",
    "        print(dc)\n",
    "    #bp = pd.DataFrame(list(docs))\n",
    "    #print(\"Medidas de Tendências Central\", d )\n",
    "    #medida_central(bp.Close)"
   ]
  },
  {
   "cell_type": "code",
   "execution_count": 94,
   "metadata": {},
   "outputs": [],
   "source": [
    "#Análise Descritiva \n",
    "#Medidas de Tendência Central\n",
    "def medida_central(col):\n",
    "    #+print(\"Medidas de Tendência Central\") \n",
    "    #print(Nomes[i])\n",
    "    print('Média:', round(col.mean(),2 ))\n",
    "    print('Mediana:',round(col.median(),2))\n",
    "    print('Moda:', round(col.mode().iloc[0]),2)\n",
    "    print('Ponto Médio:',round((max(col) - min(col))/2,2))\n",
    "    print(\"\\n\")   \n",
    "    \n",
    "def medida_dispersao(col):\n",
    "    #print(\"Medidas de Dispersão\")\n",
    "    #print(Nomes[i])\n",
    "    print('Amplitude:',(round(max(col) - min(col),2)))\n",
    "    d1 = round(col.std(),2)\n",
    "    print('Desvio Padrão σ:',d1)\n",
    "    print('Variância:', round(col.var(),2))\n",
    "    print('Coeficiente de variação', round(col.std()/col.median(),2))\n",
    "    print('Dispersão em relação aos Desvios Padrão')\n",
    "    print('Itens a 1 σ ', round(col[col[col >((col.mean()+d1)*(-1))]<((col.mean()+d1))].count()/col.count()*100,2),'%')\n",
    "    print('Itens a 2 σ ', round(col[col[col >((col.mean()+d1)*(-2))]<((col.mean()+d1)*2)].count()/col.count()*100,2),'%')\n",
    "    print('Itens a 3 σ ', round(col[col[col >((col.mean()+d1)*(-3))]<((col.mean()+d1)*3)].count()/col.count()*100,2),'%')\n",
    "    print('\\n')  \n",
    "    \n",
    "    \n",
    "def distr_freq(col,classe):\n",
    "    print('Classe','Limite_Inf','Pto_Médio','Limite_Sup','Fronteira','Freq_Absoluta','Freq_Relativa',\n",
    "          'Freq_Acumulada','Freq_Acumulada_%')\n",
    "    inter = (max(col) - min(col))//classe\n",
    "    tot = col.count()\n",
    "    menor = int(min(col)//1)\n",
    "    #lista com intervalo da frequencia\n",
    "    c=ac=ct= 0\n",
    "    while menor < max(col):\n",
    "        li = menor #limit inf\n",
    "        ls = menor+inter #limit sup\n",
    "        for i in col:\n",
    "            if  li-0.5 < i <= ls-0.5:\n",
    "                ct = ct + 1\n",
    "        ac = ac + ct\n",
    "        #frq = pd.concat([frq.append,(c,li, ((li+ls)/2),ls, (ls-1+0.5),ct, round(ct/tot,2), ac, round(ac/tot,2))], axis=0)\n",
    "        print(c,\"\\t\" ,li//1,\"\\t\", ((li+ls)/2),\"\\t\",ls, \"\\t\",(ls-1+0.5),\"\\t\",ct, \"\\t\", round(ct/tot,2),\"\\t\", ac,\"\\t\", round(ac/tot,2))\n",
    "        c = c + 1\n",
    "        menor = menor + inter\n",
    "    print(\"\\n\")\n",
    "    #return (frq)\n",
    "    \n",
    "def medidas_associacao(col,col2,i,i2):\n",
    "    #print(\"Medidas de Associação\")\n",
    "    print(\"A correlação  entre as ações\")\n",
    "    print( i.replace(\".SA\",\"\"), \"/\", i2.replace(\".SA\",\"\"), \"é\",round(col.corr(col2),2))  #np.corrcoef\n",
    "    print(\"\\nE a Covariância\")\n",
    "    print(np.cov(col,col2) )\n",
    "    print(\"\\n\") "
   ]
  },
  {
   "cell_type": "code",
   "execution_count": null,
   "metadata": {},
   "outputs": [],
   "source": []
  }
 ],
 "metadata": {
  "kernelspec": {
   "display_name": "Python 3",
   "language": "python",
   "name": "python3"
  },
  "language_info": {
   "codemirror_mode": {
    "name": "ipython",
    "version": 3
   },
   "file_extension": ".py",
   "mimetype": "text/x-python",
   "name": "python",
   "nbconvert_exporter": "python",
   "pygments_lexer": "ipython3",
   "version": "3.7.6"
  }
 },
 "nbformat": 4,
 "nbformat_minor": 4
}
